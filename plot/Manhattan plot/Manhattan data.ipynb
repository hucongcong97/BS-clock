{
 "cells": [
  {
   "cell_type": "code",
   "execution_count": null,
   "id": "630d5223",
   "metadata": {},
   "outputs": [],
   "source": [
    "import pandas as pd\n",
    "from scipy.stats import pearsonr, spearmanr, kendalltau\n",
    "import numpy as np\n",
    "\n",
    "def calculate_correlations(df):\n",
    "    # 初始化结果列表\n",
    "    results = []\n",
    "\n",
    "    # 获取列数\n",
    "    num_cols = df.shape[1]\n",
    "    \n",
    "    # 判断NA值\n",
    "    na_check = df.isnull()\n",
    "\n",
    "    # 对前 n-1 列与第 n 列计算相关性\n",
    "    for i in range(num_cols - 1):\n",
    "        # 提取当前列和第 n 列\n",
    "        col1 = df.iloc[(~na_check.iloc[:,i]).tolist(),i]\n",
    "        col2 = df.iloc[(~na_check.iloc[:,i]).tolist(),-1]\n",
    "\n",
    "        # 计算皮尔逊相关性及其 p 值\n",
    "        pearson_corr, pearson_p_value = pearsonr(col1, col2)\n",
    "\n",
    "        # 计算斯皮尔曼相关性及其 p 值\n",
    "        spearman_corr, spearman_p_value = spearmanr(col1, col2)\n",
    "\n",
    "        # 计算肯德尔相关性及其 p 值\n",
    "        kendall_corr, kendall_p_value = kendalltau(col1, col2)\n",
    "\n",
    "        # 将结果添加到列表\n",
    "        results.append({\n",
    "            'Column': df.columns[i],\n",
    "            'Pearson Correlation': pearson_corr,\n",
    "            'Pearson P-value': pearson_p_value,\n",
    "            'Spearman Correlation': spearman_corr,\n",
    "            'Spearman P-value': spearman_p_value,\n",
    "            'Kendall Correlation': kendall_corr,\n",
    "            'Kendall P-value': kendall_p_value\n",
    "        })\n",
    "\n",
    "    # 转换结果为数据框\n",
    "    result_df = pd.DataFrame(results)\n",
    "    return result_df"
   ]
  },
  {
   "cell_type": "code",
   "execution_count": null,
   "id": "574edcb3",
   "metadata": {},
   "outputs": [],
   "source": [
    "tissue_list = ['Blood','Brain','Lung','Skin']# ['Blood','Brain','Lung','Skin']\n",
    "for tissue in tissue_list:\n",
    "    print(tissue)\n",
    "    df = pd.read_csv(f'../../train_data/bootstrap_{tissue}_0.2_add.csv',index_col = 0)\n",
    "\n",
    "    # 计算相关性并输出结果数据框\n",
    "    result_df = calculate_correlations(df)\n",
    "\n",
    "    # 读取染色体的位置信息\n",
    "    data = pd.read_csv(f'../../train_data/merge_{tissue}_withchr.csv',index_col = 0)\n",
    "    data.index = [str(i) for i in data.index.tolist()]\n",
    "    data = data.loc[df.columns.tolist()[:-1]]\n",
    "    data.reset_index(inplace = True,drop = True)\n",
    "\n",
    "    # 将Chr、Start、End和相关性以及P值concat到一起\n",
    "    data_merge = pd.concat([data.iloc[:,0:3],result_df.iloc[:,1:]],axis = 1)\n",
    "    data_merge.to_csv(f'Manhattan_data_{tissue}_add.csv')"
   ]
  }
 ],
 "metadata": {
  "kernelspec": {
   "display_name": "Python 3 (ipykernel)",
   "language": "python",
   "name": "python3"
  },
  "language_info": {
   "codemirror_mode": {
    "name": "ipython",
    "version": 3
   },
   "file_extension": ".py",
   "mimetype": "text/x-python",
   "name": "python",
   "nbconvert_exporter": "python",
   "pygments_lexer": "ipython3",
   "version": "3.8.16"
  },
  "toc": {
   "base_numbering": 1,
   "nav_menu": {},
   "number_sections": true,
   "sideBar": true,
   "skip_h1_title": false,
   "title_cell": "Table of Contents",
   "title_sidebar": "Contents",
   "toc_cell": false,
   "toc_position": {},
   "toc_section_display": true,
   "toc_window_display": false
  }
 },
 "nbformat": 4,
 "nbformat_minor": 5
}
