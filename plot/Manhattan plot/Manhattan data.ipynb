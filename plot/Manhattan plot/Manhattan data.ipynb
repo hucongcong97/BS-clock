{
 "cells": [
  {
   "cell_type": "code",
   "execution_count": null,
   "id": "630d5223",
   "metadata": {},
   "outputs": [],
   "source": [
    "import pandas as pd\n",
    "from scipy.stats import pearsonr, spearmanr, kendalltau\n",
    "import numpy as np\n",
    "\n",
    "def calculate_correlations(df):\n",
    "    # Initialize the result\n",
    "    results = []\n",
    "\n",
    "    # Get the number of columns\n",
    "    num_cols = df.shape[1]\n",
    "    \n",
    "    # Determine NA value\n",
    "    na_check = df.isnull()\n",
    "\n",
    "    # Calculate the correlation between the first n-1 columns and the n-th column\n",
    "    for i in range(num_cols - 1):\n",
    "        # Extract the current column and the n-th column\n",
    "        col1 = df.iloc[(~na_check.iloc[:,i]).tolist(),i]\n",
    "        col2 = df.iloc[(~na_check.iloc[:,i]).tolist(),-1]\n",
    "\n",
    "        # Calculate Pearson correlation and its p value\n",
    "        pearson_corr, pearson_p_value = pearsonr(col1, col2)\n",
    "\n",
    "        # Calculate Spearson correlation and its p value\n",
    "        spearman_corr, spearman_p_value = spearmanr(col1, col2)\n",
    "\n",
    "        # Calculate Kendall correlation and its p value\n",
    "        kendall_corr, kendall_p_value = kendalltau(col1, col2)\n",
    "\n",
    "        # Add the results to the list\n",
    "        results.append({\n",
    "            'Column': df.columns[i],\n",
    "            'Pearson Correlation': pearson_corr,\n",
    "            'Pearson P-value': pearson_p_value,\n",
    "            'Spearman Correlation': spearman_corr,\n",
    "            'Spearman P-value': spearman_p_value,\n",
    "            'Kendall Correlation': kendall_corr,\n",
    "            'Kendall P-value': kendall_p_value\n",
    "        })\n",
    "\n",
    "    # Convert the results into a data frame\n",
    "    result_df = pd.DataFrame(results)\n",
    "    return result_df"
   ]
  },
  {
   "cell_type": "code",
   "execution_count": null,
   "id": "574edcb3",
   "metadata": {},
   "outputs": [],
   "source": [
    "tissue_list = ['Blood','Brain','Lung','Skin']# ['Blood','Brain','Lung','Skin']\n",
    "for tissue in tissue_list:\n",
    "    print(tissue)\n",
    "    df = pd.read_csv(f'../../train_data/bootstrap_{tissue}_0.2_add.csv',index_col = 0)\n",
    "\n",
    "    # Calculate the correlation and output the result\n",
    "    result_df = calculate_correlations(df)\n",
    "\n",
    "    # Read the chromosome location information\n",
    "    data = pd.read_csv(f'../../train_data/merge_{tissue}_withchr.csv',index_col = 0)\n",
    "    data.index = [str(i) for i in data.index.tolist()]\n",
    "    data = data.loc[df.columns.tolist()[:-1]]\n",
    "    data.reset_index(inplace = True,drop = True)\n",
    "\n",
    "    # Concatenate Chr, Start, End, correlation and P value together\n",
    "    data_merge = pd.concat([data.iloc[:,0:3],result_df.iloc[:,1:]],axis = 1)\n",
    "    data_merge.to_csv(f'Manhattan_data_{tissue}_add.csv')"
   ]
  }
 ],
 "metadata": {
  "kernelspec": {
   "display_name": "Python 3 (ipykernel)",
   "language": "python",
   "name": "python3"
  },
  "language_info": {
   "codemirror_mode": {
    "name": "ipython",
    "version": 3
   },
   "file_extension": ".py",
   "mimetype": "text/x-python",
   "name": "python",
   "nbconvert_exporter": "python",
   "pygments_lexer": "ipython3",
   "version": "3.8.16"
  },
  "toc": {
   "base_numbering": 1,
   "nav_menu": {},
   "number_sections": true,
   "sideBar": true,
   "skip_h1_title": false,
   "title_cell": "Table of Contents",
   "title_sidebar": "Contents",
   "toc_cell": false,
   "toc_position": {},
   "toc_section_display": true,
   "toc_window_display": false
  }
 },
 "nbformat": 4,
 "nbformat_minor": 5
}
