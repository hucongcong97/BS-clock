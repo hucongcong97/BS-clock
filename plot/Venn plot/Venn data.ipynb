{
 "cells": [
  {
   "cell_type": "code",
   "execution_count": null,
   "id": "f4e76b62",
   "metadata": {},
   "outputs": [],
   "source": [
    "#引入库\n",
    "import os\n",
    "import pandas as pd\n",
    "import numpy as np\n",
    "import warnings\n",
    "import time\n",
    "warnings.filterwarnings(\"ignore\")"
   ]
  },
  {
   "cell_type": "code",
   "execution_count": null,
   "id": "426b7079",
   "metadata": {},
   "outputs": [],
   "source": [
    "tissue_list = ['Blood','Brain','Lung','Skin']\n",
    "# 批量读取数据\n",
    "for i,tissue in enumerate(tissue_list):\n",
    "    print(i,tissue)\n",
    "    df = pd.read_csv(f'F:/Methylation/model/train_data4/bootstrap_{tissue}_0.2.csv',index_col=0)\n",
    "    globals()[\"df\" + str(i + 1)] = df\n",
    "    \n",
    "# 求四个数据location编号的并集\n",
    "loc = list(set(df1.columns[:-1].tolist()).union(set(df2.columns[:-1].tolist())).union(set(df3.columns[:-1].tolist())).union(set(df4.columns[:-1].tolist())))\n",
    "\n",
    "# 创建数据框\n",
    "merge = pd.DataFrame(data=np.zeros((len(loc),4)),columns=tissue_list)\n",
    "merge.index = loc\n",
    "# 将每个数据对应索引的数值赋为1\n",
    "merge.loc[df1.columns[:-1].tolist(), 'Blood'] = 1\n",
    "merge.loc[df2.columns[:-1].tolist(), 'Brain'] = 1\n",
    "merge.loc[df3.columns[:-1].tolist(), 'Lung'] = 1\n",
    "merge.loc[df4.columns[:-1].tolist(), 'Skin'] = 1\n",
    "\n",
    "# 保存数据\n",
    "merge.to_csv('F:/Methylation/model/train_data4/plot_data/Venn plot/Venn_data.csv')"
   ]
  }
 ],
 "metadata": {
  "kernelspec": {
   "display_name": "Python 3 (ipykernel)",
   "language": "python",
   "name": "python3"
  },
  "language_info": {
   "codemirror_mode": {
    "name": "ipython",
    "version": 3
   },
   "file_extension": ".py",
   "mimetype": "text/x-python",
   "name": "python",
   "nbconvert_exporter": "python",
   "pygments_lexer": "ipython3",
   "version": "3.8.16"
  },
  "toc": {
   "base_numbering": 1,
   "nav_menu": {},
   "number_sections": true,
   "sideBar": true,
   "skip_h1_title": false,
   "title_cell": "Table of Contents",
   "title_sidebar": "Contents",
   "toc_cell": false,
   "toc_position": {},
   "toc_section_display": true,
   "toc_window_display": false
  }
 },
 "nbformat": 4,
 "nbformat_minor": 5
}
