{
 "cells": [
  {
   "cell_type": "code",
   "execution_count": null,
   "id": "f4e76b62",
   "metadata": {},
   "outputs": [],
   "source": [
    "# import library\n",
    "import os\n",
    "import pandas as pd\n",
    "import numpy as np\n",
    "import warnings\n",
    "import time\n",
    "warnings.filterwarnings(\"ignore\")"
   ]
  },
  {
   "cell_type": "code",
   "execution_count": null,
   "id": "426b7079",
   "metadata": {},
   "outputs": [],
   "source": [
    "tissue_list = ['Blood','Brain','Lung','Skin']\n",
    "# Read data in batches\n",
    "for i,tissue in enumerate(tissue_list):\n",
    "    print(i,tissue)\n",
    "    df = pd.read_csv(f'F:/Methylation/model/train_data4/bootstrap_{tissue}_0.2.csv',index_col=0)\n",
    "    globals()[\"df\" + str(i + 1)] = df\n",
    "    \n",
    "# Find the union of the four data location numbers\n",
    "loc = list(set(df1.columns[:-1].tolist()).union(set(df2.columns[:-1].tolist())).union(set(df3.columns[:-1].tolist())).union(set(df4.columns[:-1].tolist())))\n",
    "\n",
    "# Create a data frame\n",
    "merge = pd.DataFrame(data=np.zeros((len(loc),4)),columns=tissue_list)\n",
    "merge.index = loc\n",
    "# Assign the value of each data corresponding index to 1\n",
    "merge.loc[df1.columns[:-1].tolist(), 'Blood'] = 1\n",
    "merge.loc[df2.columns[:-1].tolist(), 'Brain'] = 1\n",
    "merge.loc[df3.columns[:-1].tolist(), 'Lung'] = 1\n",
    "merge.loc[df4.columns[:-1].tolist(), 'Skin'] = 1\n",
    "\n",
    "# save data\n",
    "merge.to_csv('F:/Methylation/model/train_data4/plot_data/Venn plot/Venn_data.csv')"
   ]
  }
 ],
 "metadata": {
  "kernelspec": {
   "display_name": "Python 3 (ipykernel)",
   "language": "python",
   "name": "python3"
  },
  "language_info": {
   "codemirror_mode": {
    "name": "ipython",
    "version": 3
   },
   "file_extension": ".py",
   "mimetype": "text/x-python",
   "name": "python",
   "nbconvert_exporter": "python",
   "pygments_lexer": "ipython3",
   "version": "3.8.16"
  },
  "toc": {
   "base_numbering": 1,
   "nav_menu": {},
   "number_sections": true,
   "sideBar": true,
   "skip_h1_title": false,
   "title_cell": "Table of Contents",
   "title_sidebar": "Contents",
   "toc_cell": false,
   "toc_position": {},
   "toc_section_display": true,
   "toc_window_display": false
  }
 },
 "nbformat": 4,
 "nbformat_minor": 5
}
