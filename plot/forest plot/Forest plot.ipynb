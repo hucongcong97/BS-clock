{
 "cells": [
  {
   "cell_type": "code",
   "execution_count": null,
   "id": "3468a08a",
   "metadata": {},
   "outputs": [],
   "source": [
    "library(forestplot)\n",
    "\n",
    "data = read.csv('blood.csv',header = TRUE)\n",
    "colnames(data) = c('variable','coef','ci_lower','ci_upper')\n",
    "\n",
    "# 转换数据为矩阵格式\n",
    "text <- cbind(\n",
    "  c(\"Variable\", as.character(data$variable)),\n",
    "  c(\"Coefficient\", as.character(round(data$coef, 2))),\n",
    "  c(\"95% CI\", paste0(\"(\", round(data$ci_lower, 2), \", \", round(data$ci_upper, 2), \")\"))\n",
    ")\n",
    "\n",
    "mean <- c(NA, data$coef)\n",
    "lower <- c(NA, data$ci_lower)\n",
    "upper <- c(NA, data$ci_upper)\n",
    "\n",
    "# 绘制森林图\n",
    "pdf(file = \"forest_plot_blood.pdf\", width = 5, height = 3)\n",
    "forestplot(\n",
    "  labeltext = text,\n",
    "  mean = mean,\n",
    "  lower = lower,\n",
    "  upper = upper,\n",
    "  title = \"Forest Plot of Elastic Net Regression Coefficients\",\n",
    "  xlab = \"Coefficient\",\n",
    "  lineheight = \"auto\",\n",
    "  graph.pos = 2,\n",
    "  boxsize = 0.2,\n",
    "  col = forestplot::fpColors(box = \"royalblue\", line = \"darkblue\", summary = \"royalblue\"),\n",
    "  zero = 0,\n",
    "  cex = 0.9,\n",
    "  new_page = FALSE\n",
    ")\n",
    "dev.off()"
   ]
  }
 ],
 "metadata": {
  "kernelspec": {
   "display_name": "R",
   "language": "R",
   "name": "ir"
  },
  "language_info": {
   "codemirror_mode": "r",
   "file_extension": ".r",
   "mimetype": "text/x-r-source",
   "name": "R",
   "pygments_lexer": "r",
   "version": "4.1.3"
  },
  "toc": {
   "base_numbering": 1,
   "nav_menu": {},
   "number_sections": true,
   "sideBar": true,
   "skip_h1_title": false,
   "title_cell": "Table of Contents",
   "title_sidebar": "Contents",
   "toc_cell": false,
   "toc_position": {},
   "toc_section_display": true,
   "toc_window_display": false
  }
 },
 "nbformat": 4,
 "nbformat_minor": 5
}
