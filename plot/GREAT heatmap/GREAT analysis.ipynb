{
 "cells": [
  {
   "cell_type": "code",
   "execution_count": null,
   "id": "031f8118",
   "metadata": {},
   "outputs": [],
   "source": [
    "#引入库\n",
    "import os\n",
    "import pandas as pd\n",
    "import numpy as np\n",
    "import warnings\n",
    "import time\n",
    "warnings.filterwarnings(\"ignore\")"
   ]
  },
  {
   "cell_type": "markdown",
   "id": "279a36f3",
   "metadata": {},
   "source": [
    "# export data"
   ]
  },
  {
   "cell_type": "markdown",
   "id": "ab783704",
   "metadata": {},
   "source": [
    "**导出Normal和年龄相关性的位点数据**"
   ]
  },
  {
   "cell_type": "code",
   "execution_count": null,
   "id": "17bfcf18",
   "metadata": {},
   "outputs": [],
   "source": [
    "meta = pd.read_csv('../../train_data/meta.csv')\n",
    "merge = pd.read_csv('../../train_data/merge_Blood_withchr.csv',index_col=0)\n",
    "merge.index = [str(i) for i in merge.index.tolist()]\n",
    "df = pd.read_csv('../../train_data/bootstrap_Blood_0.2.csv',index_col=0)\n",
    "merge = merge.loc[df.columns.tolist()[:-1]]\n",
    "\n",
    "# 将merge data匹配age信息\n",
    "merge_data = pd.merge(merge.T,meta[[\"SRA\",\"age\",\"disease state\"]],left_index=True,right_on=[\"SRA\"])\n",
    "merge_data = merge_data.set_index(\"SRA\")\n",
    "\n",
    "merge_data2 = merge_data.loc[merge_data['disease state'] == 'Normal',:]\n",
    "\n",
    "merge_check = merge_data2.iloc[:,0:merge.shape[0]].isnull()\n",
    "\n",
    "# 计算单个cpgsite与age的相关性\n",
    "merge['corr'] = [np.corrcoef(merge_data2.iloc[(~merge_check.iloc[:,i]).tolist(),i].tolist(), merge_data2.iloc[(~merge_check.iloc[:,i]).tolist(),-2].tolist())[0,1] for i in range(merge_data2.shape[1]-2)]\n",
    "\n",
    "# 将corr列从高到低排序\n",
    "merge1 = merge.sort_values(by='corr',ascending=False)\n",
    "# 删除corr为NA的行\n",
    "merge2 = merge1.loc[~merge1['corr'].isna(),:]\n",
    "# 保存数据\n",
    "nums = [500,1000,2000,3000]\n",
    "for num in nums:\n",
    "    merge2.iloc[0:num,0:3].to_csv(f'normal_positive_{num}.csv')\n",
    "    merge2.iloc[-num:,0:3].to_csv(f'normal_negative_{num}.csv')"
   ]
  },
  {
   "cell_type": "markdown",
   "id": "ec0cc483",
   "metadata": {},
   "source": [
    "**导出Disease和年龄相关性的位点数据**"
   ]
  },
  {
   "cell_type": "code",
   "execution_count": null,
   "id": "86a0bd34",
   "metadata": {},
   "outputs": [],
   "source": [
    "meta = pd.read_csv('../../train_data/meta.csv')\n",
    "merge = pd.read_csv('../../train_data/merge_Blood_withchr.csv',index_col=0)\n",
    "merge.index = [str(i) for i in merge.index.tolist()]\n",
    "df = pd.read_csv('../../train_data/bootstrap_Blood_0.2.csv',index_col=0)\n",
    "merge = merge.loc[df.columns.tolist()[:-1]]\n",
    "\n",
    "# 将merge data匹配age信息\n",
    "merge_data = pd.merge(merge.T,meta[[\"SRA\",\"age\",\"disease state\"]],left_index=True,right_on=[\"SRA\"])\n",
    "merge_data = merge_data.set_index(\"SRA\")\n",
    "\n",
    "merge_data2 = merge_data.loc[merge_data['disease state'] != 'Normal',:]\n",
    "\n",
    "merge_check = merge_data2.iloc[:,0:merge.shape[0]].isnull()\n",
    "\n",
    "# 计算单个cpgsite与age的相关性\n",
    "merge['corr'] = [np.corrcoef(merge_data2.iloc[(~merge_check.iloc[:,i]).tolist(),i].tolist(), merge_data2.iloc[(~merge_check.iloc[:,i]).tolist(),-2].tolist())[0,1] for i in range(merge_data2.shape[1]-2)]\n",
    "\n",
    "# 将corr列从高到低排序\n",
    "merge1 = merge.sort_values(by='corr',ascending=False)\n",
    "# 删除corr为NA的行\n",
    "merge2 = merge1.loc[~merge1['corr'].isna(),:]\n",
    "# 保存数据\n",
    "nums = [500,1000,2000,3000]\n",
    "for num in nums:\n",
    "    merge2.iloc[0:num,0:3].to_csv(f'disease_positive_{num}.csv')\n",
    "    merge2.iloc[-num:,0:3].to_csv(f'disease_negative_{num}.csv')"
   ]
  },
  {
   "cell_type": "markdown",
   "id": "03bfbf17",
   "metadata": {},
   "source": [
    "# GREAT analysis"
   ]
  },
  {
   "cell_type": "markdown",
   "id": "56fc6672",
   "metadata": {},
   "source": [
    "将上述得到的数据输入到[GREAT](http://great.stanford.edu/public/html/)\n",
    "* 选择版本**GREAT version 4.0.4**；\n",
    "* Species Assembly选择**Human: GRCh37 (UCSC hg19, Feb. 2009)**；\n",
    "* 将Test regions选择**BED data**，将染色体以及起始和终止的数据粘贴进去；\n",
    "* 点击**Submit**，下载相应的结果。"
   ]
  }
 ],
 "metadata": {
  "kernelspec": {
   "display_name": "Python 3 (ipykernel)",
   "language": "python",
   "name": "python3"
  },
  "language_info": {
   "codemirror_mode": {
    "name": "ipython",
    "version": 3
   },
   "file_extension": ".py",
   "mimetype": "text/x-python",
   "name": "python",
   "nbconvert_exporter": "python",
   "pygments_lexer": "ipython3",
   "version": "3.8.16"
  },
  "toc": {
   "base_numbering": 1,
   "nav_menu": {},
   "number_sections": true,
   "sideBar": true,
   "skip_h1_title": false,
   "title_cell": "Table of Contents",
   "title_sidebar": "Contents",
   "toc_cell": false,
   "toc_position": {},
   "toc_section_display": true,
   "toc_window_display": false
  }
 },
 "nbformat": 4,
 "nbformat_minor": 5
}
